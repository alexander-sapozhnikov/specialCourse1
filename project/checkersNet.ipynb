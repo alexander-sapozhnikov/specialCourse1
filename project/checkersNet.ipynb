{
 "cells": [
  {
   "cell_type": "code",
   "execution_count": null,
   "metadata": {},
   "outputs": [],
   "source": [
    "Цель проекта научить нейронную сеть играть в шашки.\n",
    "\n",
    "Были созданы две модели со сверточными слоями и полносвязными. \n",
    "Для реализации этих моделей был использован фреймворк PyTorch.\n",
    "Данные взяты с открытых публичных турниров по шашкам с 1884 по 2004 год. \n",
    "В общей сумме получилось большей 1.1 миллиона полей и ходов к ним соответствующие.\n",
    "\n",
    "Для обучения было использовано 300 тыс полей.\n",
    "\n",
    "Как видно из результатов обучения сверточная нейронная сеть \n",
    "не так быстро запоминала тренировочный дата сет, как полносвязная. \n"
   ]
  },
  {
   "cell_type": "code",
   "execution_count": null,
   "metadata": {
    "id": "SWv4Iy-40cal"
   },
   "outputs": [],
   "source": [
    "import torch\n",
    "import random\n",
    "import numpy as np\n",
    "import math\n",
    "from sklearn.metrics import mean_squared_error\n",
    "from tqdm import tqdm"
   ]
  },
  {
   "cell_type": "code",
   "execution_count": null,
   "metadata": {},
   "outputs": [],
   "source": [
    "from google.colab import drive\n",
    "drive.mount('/content/drive')\n",
    "url = '/content/drive/MyDrive/checkersNetData/'"
   ]
  },
  {
   "cell_type": "code",
   "execution_count": null,
   "metadata": {},
   "outputs": [],
   "source": [
    "import math\n",
    "# Собираем ходы из pdn файл в наш\n",
    "\n",
    "with open(url + 'OCA_2.0.pdn', 'r') as file:\n",
    "    data = file.read().split('\\n')\n",
    "\n",
    "mas = []\n",
    "readyOne = \"\"\n",
    "for el in data:\n",
    "    if el == \"\":\n",
    "        if readyOne != \"\":\n",
    "            mas.append(readyOne)\n",
    "        readyOne = \"\"\n",
    "        continue\n",
    "    if \"[\" in el:\n",
    "        continue\n",
    "    readyOne += \" \" + el\n",
    "    \n",
    "with open(url + 'stepNewww.txt', 'w') as file:\n",
    "    for readyOne in mas:\n",
    "        readyOne = readyOne.split(\".\")[1:]\n",
    "        for i in range(len(readyOne)):\n",
    "            twoStep = readyOne[i].split(\" \")[1:-1]\n",
    "    \n",
    "            for oneStep in twoStep[:2]:\n",
    "                oneStep_ = oneStep.split(\"-\")\n",
    "                oneStepx = oneStep.split(\"x\")\n",
    "                if len(oneStep_) > 1:\n",
    "                    file.write(oneStep_[0])\n",
    "                    file.write(\" \")\n",
    "                    file.write(oneStep_[-1])\n",
    "                    count += 1\n",
    "                    file.write(\"\\n\")\n",
    "                elif len(oneStepx) > 1:\n",
    "                    for i in range(len(oneStepx)):\n",
    "                        file.write(oneStepx[i])\n",
    "                        if len(oneStepx) != i +1:\n",
    "                            file.write(\" \")\n",
    "                    count += 1\n",
    "                    file.write(\"\\n\")\n",
    "                    \n"
   ]
  },
  {
   "cell_type": "code",
   "execution_count": null,
   "metadata": {},
   "outputs": [],
   "source": [
    "def show(field, file, change = 1):\n",
    "    for row in field:\n",
    "        for el in row:\n",
    "            file.write(str(el*change) + \" \")"
   ]
  },
  {
   "cell_type": "code",
   "execution_count": null,
   "metadata": {},
   "outputs": [],
   "source": [
    "from checkers.game import Game\n",
    "# checkers вспомагательная функция, чтобы строить поля на основе сделанных ходов\n",
    "# берём ходы полученные с предыдущего файла и симулируем их\n",
    "# С помощью симуляции проверяем корректность ходов и строим поле до хода\n",
    "\n",
    "with open(url + 'stepNewww.txt', 'r') as file:\n",
    "  data = file.read().split('\\n')\n",
    "    \n",
    "  game = Game()\n",
    "  game.consecutive_noncapture_move_limit =  9999999999\n",
    "  count = 0\n",
    "  with open(url + 'step.txt', 'w') as fileStep:\n",
    "    with open(url + 'field.txt', 'w') as file:\n",
    "        for step in tqdm(data):\n",
    "            count += 1\n",
    "            field = [\n",
    "            [0,0,0,0,0,0,0,0],\n",
    "            [0,0,0,0,0,0,0,0],\n",
    "            [0,0,0,0,0,0,0,0],\n",
    "            [0,0,0,0,0,0,0,0],\n",
    "            [0,0,0,0,0,0,0,0],\n",
    "            [0,0,0,0,0,0,0,0],\n",
    "            [0,0,0,0,0,0,0,0],\n",
    "            [0,0,0,0,0,0,0,0]]\n",
    "\n",
    "            if \"*\" in step:\n",
    "                game = Game()\n",
    "                continue\n",
    "\n",
    "            for piece in game.board.pieces:\n",
    "                i = piece.position\n",
    "                if( i == None):\n",
    "                    continue\n",
    "                x = math.floor((i-1) / 4)\n",
    "                if math.floor((i-1) / 4) % 2 == 0:\n",
    "                    y = (i - 1) % 4 * 2 + 1\n",
    "                else:\n",
    "                    y = (i-1) % 4 * 2\n",
    "                if piece.player == 1:\n",
    "                    field[x][y] = 1\n",
    "                else:\n",
    "                    field[x][y] = -1\n",
    "\n",
    "                if piece.king:\n",
    "                    field[x][y] *= 2\n",
    "                    \n",
    "            if game.whose_turn() == 1:\n",
    "              field.reverse()\n",
    "              for el in field:\n",
    "                el.reverse()\n",
    "              show(field, file, -1)\n",
    "            else:\n",
    "              show(field, file, 1)\n",
    "            file.write(\"\\n\")\n",
    "\n",
    "            stepNext = [int(el) for el in step.split(\" \")]\n",
    "            steps = step.split(\" \")\n",
    "            for i in range(1, len(steps)):\n",
    "                stepNext = [steps[i-1], steps[i]]\n",
    "                stepNext = [int(el) for el in stepNext]\n",
    "                game.move(stepNext)\n",
    "\n",
    "            game.whose_turn()\n",
    "            if game.whose_turn() != 1:\n",
    "              fileStep.write(str(33 - stepNext[0]) + \" \" + str(33 - stepNext[-1]))\n",
    "            else:\n",
    "              fileStep.write(str(stepNext[0]) + \" \" + str(stepNext[-1]))\n",
    "            fileStep.write(\"\\n\")"
   ]
  },
  {
   "cell_type": "code",
   "execution_count": null,
   "metadata": {
    "id": "BRldjHbQ3lVm"
   },
   "outputs": [],
   "source": [
    "counData = 300000"
   ]
  },
  {
   "cell_type": "code",
   "execution_count": null,
   "metadata": {
    "colab": {
     "base_uri": "https://localhost:8080/"
    },
    "id": "j5dkkWP50oxL",
    "outputId": "fd33dc56-6bbd-40e2-fc63-dae213861e15"
   },
   "outputs": [
    {
     "name": "stdout",
     "output_type": "stream",
     "text": [
      "300000\n"
     ]
    }
   ],
   "source": [
    "# считываем поля с полученного файла выше\n",
    "fields = []\n",
    "count = 0\n",
    "\n",
    "with open(url +'field.txt', 'r') as file:\n",
    "  data = file.read().split('\\n')\n",
    "  for el in data:\n",
    "      el = list(map(int, map(str.strip, el.split(\" \", 63))))\n",
    "      \n",
    "          \n",
    "      oneField = []\n",
    "\n",
    "      for i in range(8):\n",
    "          array = el[i * 8: i * 8 + 8]\n",
    "          oneField.append(array)\n",
    "\n",
    "      fields.append(oneField)\n",
    "      count += 1\n",
    "      if count == counData:\n",
    "        break\n",
    "    \n",
    "print(len(fields))\n",
    "fields = torch.from_numpy(np.array(fields))\n",
    "fields = fields.unsqueeze(1).float()"
   ]
  },
  {
   "cell_type": "code",
   "execution_count": null,
   "metadata": {
    "colab": {
     "base_uri": "https://localhost:8080/"
    },
    "id": "33QI4hnm2gDh",
    "outputId": "da9574e3-6f2e-446d-9cec-466e958a3d75"
   },
   "outputs": [
    {
     "name": "stdout",
     "output_type": "stream",
     "text": [
      "300000\n"
     ]
    }
   ],
   "source": [
    "# считываем ходы с полученного файла выше\n",
    "steps = []\n",
    "count = 0\n",
    "\n",
    "with open(url + 'step.txt', 'r') as file:\n",
    "  data = file.read().split('\\n')\n",
    " \n",
    "  for el in data:\n",
    "    step = list(map(int,el.split(\" \")))\n",
    "    steps.append([step[0], step[-1]])\n",
    "    count += 1\n",
    "    if count == counData:\n",
    "      break\n",
    "\n",
    "\n",
    "steps = torch.from_numpy(np.array(np.array(steps))).float()\n",
    "\n",
    "print(len(steps))"
   ]
  },
  {
   "cell_type": "code",
   "execution_count": null,
   "metadata": {
    "id": "jj7evxl32Ogn"
   },
   "outputs": [],
   "source": [
    "from sklearn.model_selection import train_test_split\n",
    "# разбиваем дата сет на три типа\n",
    "train, valid, trainAns, validAns = train_test_split(fields, steps, test_size=0.30)\n",
    "valid, test, validAns, testAns = train_test_split(valid, validAns, test_size=0.30)"
   ]
  },
  {
   "cell_type": "code",
   "execution_count": null,
   "metadata": {
    "id": "WLsLbeO2Tqwo"
   },
   "outputs": [],
   "source": [
    "# переносим вычисления на видеокарту\n",
    "device = torch.device('cuda:0' if torch.cuda.is_available() else 'cpu')\n",
    "\n",
    "valid = valid.to(device)\n",
    "validAns = validAns.to(device)\n",
    "\n",
    "train = train.to(device)\n",
    "trainAns = trainAns.to(device)\n",
    "\n",
    "test = test.to(device)\n",
    "testAns = testAns.to(device)"
   ]
  },
  {
   "cell_type": "code",
   "execution_count": null,
   "metadata": {
    "id": "-cQSOrLDCYjl"
   },
   "outputs": [],
   "source": [
    "# сеть со свёрткой\n",
    "class ChessNet(torch.nn.Module):\n",
    "    def __init__(self):\n",
    "        super(ChessNet, self).__init__()\n",
    "\n",
    "        self.conv1 = torch.nn.Conv2d(\n",
    "            in_channels=1, out_channels=10, kernel_size=3, padding=1)\n",
    "        self.act1 = torch.nn.LeakyReLU()\n",
    "        self.pool1 = torch.nn.MaxPool2d(kernel_size=2, stride=1)\n",
    "\n",
    "        self.conv2 = torch.nn.Conv2d(\n",
    "            in_channels=10, out_channels=10, kernel_size=3, padding=1)\n",
    "        self.act2 = torch.nn.ReLU()\n",
    "        \n",
    "        self.pool2 = torch.nn.MaxPool2d(kernel_size=2, stride=2)\n",
    "\n",
    "        self.fc1 = torch.nn.Linear(int(90), 100)\n",
    "        self.act3 = torch.nn.LeakyReLU()\n",
    "\n",
    "        self.fc2 = torch.nn.Linear(100, 50)\n",
    "        self.act4 = torch.nn.LeakyReLU()\n",
    "\n",
    "        self.fc3 = torch.nn.Linear(50, 2)\n",
    "\n",
    "    def forward(self, x):\n",
    "        x = self.conv1(x)\n",
    "        x = self.act1(x)\n",
    "        x = self.pool1(x)\n",
    "        \n",
    "        x = self.conv2(x)\n",
    "        x = self.act2(x)\n",
    "        x = self.pool2(x)\n",
    "        \n",
    "        x = x.view(x.size(0), x.size(1) * x.size(2) * x.size(3))\n",
    "        x = self.fc1(x)\n",
    "        x = self.act3(x)\n",
    "        x = self.fc2(x)\n",
    "        x = self.act4(x)\n",
    "        x = self.fc3(x)\n",
    "\n",
    "        return x"
   ]
  },
  {
   "cell_type": "code",
   "execution_count": null,
   "metadata": {
    "id": "KG6zWhZZCst_"
   },
   "outputs": [],
   "source": [
    "chessNet = ChessNet()\n",
    "chessNet = chessNet.to(device)\n",
    "\n",
    "test_accuracy_history1 = []\n",
    "train_accuracy_history1 = []\n",
    "test_loss_history1 = []\n",
    "diff_accuracy_history1 = []\n",
    "loss = torch.nn.MSELoss()\n",
    "optimizer = torch.optim.Adam(chessNet.parameters(), lr=1.0e-3)"
   ]
  },
  {
   "cell_type": "code",
   "execution_count": null,
   "metadata": {
    "id": "RojvQ3CEC0nR"
   },
   "outputs": [],
   "source": [
    "# обучаем сеть со свёрткой\n",
    "batch_size = 50\n",
    "\n",
    "for epoch in tqdm(range(400)):\n",
    "    order = np.random.permutation(len(train))\n",
    "    for start_index in range(0, len(train), batch_size):\n",
    "        optimizer.zero_grad()\n",
    "        \n",
    "        batch_indexes = order[start_index:start_index+batch_size]\n",
    "   \n",
    "        batchTrain = train[batch_indexes].to(device)\n",
    "        batchTrainAns = trainAns[batch_indexes].to(device)\n",
    "        \n",
    "        preds = chessNet.forward(batchTrain)\n",
    "        \n",
    "        loss_value = loss(preds, batchTrainAns)\n",
    "        loss_value.backward()\n",
    "        \n",
    "        optimizer.step()\n",
    "        \n",
    "    valid_preds = chessNet.forward(valid)\n",
    "    test_loss_history1.append(loss(valid_preds, validAns).data)\n",
    "    \n",
    "    accuracy = mean_squared_error(validAns.cpu(), valid_preds.cpu().detach().numpy() )\n",
    "    test_accuracy_history1.append(accuracy)\n",
    "\n",
    "    \n",
    "    train_preds = chessNet.forward(train)\n",
    "    accuracy_train = mean_squared_error(trainAns.cpu(), train_preds.cpu().detach().numpy() )\n",
    "    train_accuracy_history1.append(accuracy_train)\n",
    "    \n",
    "    diff = accuracy - accuracy_train\n",
    "    diff_accuracy_history1.append(diff)\n",
    "    \n",
    "    print(epoch)\n",
    "    print(accuracy)\n",
    "    print(accuracy_train)"
   ]
  },
  {
   "cell_type": "code",
   "execution_count": null,
   "metadata": {
    "colab": {
     "base_uri": "https://localhost:8080/",
     "height": 265
    },
    "id": "4enxMz5MC3cp",
    "outputId": "a3483d99-66d2-427b-8195-6f5a89c66d0b"
   },
   "outputs": [
    {
     "data": {
      "image/png": "[encoded data removed]",
      "text/plain": [
       "<Figure size 432x288 with 1 Axes>"
      ]
     },
     "metadata": {
      "needs_background": "light",
      "tags": []
     },
     "output_type": "display_data"
    }
   ],
   "source": [
    "# дальше идут результаты обучения\n",
    "import matplotlib.pyplot as plt\n",
    "plt.plot(test_accuracy_history1);\n",
    "plt.plot(train_accuracy_history1, '--r');"
   ]
  },
  {
   "cell_type": "code",
   "execution_count": null,
   "metadata": {
    "colab": {
     "base_uri": "https://localhost:8080/",
     "height": 268
    },
    "id": "rSXas3IjC48K",
    "outputId": "db0d2f8a-971d-49f9-e3ff-f2c0baecb1d6"
   },
   "outputs": [
    {
     "data": {
      "image/png": "[encoded data removed]",
      "text/plain": [
       "<Figure size 432x288 with 1 Axes>"
      ]
     },
     "metadata": {
      "needs_background": "light",
      "tags": []
     },
     "output_type": "display_data"
    }
   ],
   "source": [
    "plt.plot(diff_accuracy_history1);"
   ]
  },
  {
   "cell_type": "code",
   "execution_count": null,
   "metadata": {
    "id": "DXFtKGccFf_I"
   },
   "outputs": [],
   "source": [
    "for i in range(4): \n",
    "    print(train[i])\n",
    "    print((chessNet.forward(train[i].unsqueeze(1).float())).round())\n",
    "    print(trainAns[i])"
   ]
  },
  {
   "cell_type": "code",
   "execution_count": null,
   "metadata": {
    "id": "rUJduNPyFoYB"
   },
   "outputs": [],
   "source": [
    "for i in range(8): \n",
    "    print(valid[i])\n",
    "    print(chessNet.forward(valid[i].unsqueeze(1).float()))\n",
    "    print(validAns[i])"
   ]
  },
  {
   "cell_type": "code",
   "execution_count": null,
   "metadata": {
    "id": "e-5r5qLLFxq6"
   },
   "outputs": [],
   "source": [
    "for i in range(20, 24): \n",
    "    print(test[i])\n",
    "    print(chessNet.forward(test[i].unsqueeze(1).float()))\n",
    "    print(testAns[i])"
   ]
  },
  {
   "cell_type": "code",
   "execution_count": null,
   "metadata": {
    "id": "jQLW6uGrLRL_"
   },
   "outputs": [],
   "source": [
    "# сеть на полносвязных слоях\n",
    "class ChessNet2(torch.nn.Module):\n",
    "    def __init__(self):\n",
    "        super(ChessNet2, self).__init__()\n",
    "        self.fc1 = torch.nn.Linear(64, 200)\n",
    "        self.act1 = torch.nn.LeakyReLU()\n",
    "        self.fc2 = torch.nn.Linear(200, 150)\n",
    "        self.act2 = torch.nn.LeakyReLU()\n",
    "        self.fc3 = torch.nn.Linear(150, 100)\n",
    "        self.act3 = torch.nn.LeakyReLU()\n",
    "        self.fc4 = torch.nn.Linear(100, 50)\n",
    "        self.act4 = torch.nn.LeakyReLU()\n",
    "        self.fc5 = torch.nn.Linear(50, 30)\n",
    "        self.act5 = torch.nn.LeakyReLU()\n",
    "        self.fc6 = torch.nn.Linear(30, 2)\n",
    "\n",
    "    def forward(self, x):\n",
    "        x = x.view(x.size(0), x.size(1) * x.size(2) * x.size(3))\n",
    "        x = self.fc1(x)\n",
    "        x = self.act1(x)\n",
    "        x = self.fc2(x)\n",
    "        x = self.act2(x)\n",
    "        x = self.fc3(x)\n",
    "        x = self.act3(x)\n",
    "        x = self.fc4(x)\n",
    "        x = self.act4(x)\n",
    "        x = self.fc5(x)\n",
    "        x = self.act5(x)\n",
    "        x = self.fc6(x)\n",
    "\n",
    "        return x\n",
    "        \n",
    "chessNet2 = ChessNet2()\n",
    "chessNet2.to(device)"
   ]
  },
  {
   "cell_type": "code",
   "execution_count": null,
   "metadata": {
    "id": "whd3Ghv7LUdG"
   },
   "outputs": [],
   "source": [
    "test_accuracy_history = []\n",
    "train_accuracy_history = []\n",
    "test_loss_history = []\n",
    "diff_accuracy_history = []\n",
    "loss = torch.nn.MSELoss()\n",
    "optimizer = torch.optim.Adam(chessNet2.parameters(), lr=1.0e-3)"
   ]
  },
  {
   "cell_type": "code",
   "execution_count": null,
   "metadata": {
    "id": "aIzh_13ELdVP"
   },
   "outputs": [],
   "source": [
    "# обучаем сеть на полносвязных слоях\n",
    "batch_size = 50\n",
    "\n",
    "for epoch in tqdm(range(400)):\n",
    "    order = np.random.permutation(len(train))\n",
    "    for start_index in range(0, len(train), batch_size):\n",
    "        optimizer.zero_grad()\n",
    "        \n",
    "        batch_indexes = order[start_index:start_index+batch_size]\n",
    "   \n",
    "        batchTrain = train[batch_indexes].to(device)\n",
    "        batchTrainAns = trainAns[batch_indexes].to(device)\n",
    "        \n",
    "        preds = chessNet2.forward(batchTrain)\n",
    "        \n",
    "        loss_value = loss(preds, batchTrainAns)\n",
    "        loss_value.backward()\n",
    "        \n",
    "        optimizer.step()\n",
    "        \n",
    "    valid_preds = chessNet2.forward(valid)\n",
    "    test_loss_history.append(loss(valid_preds, validAns).data)\n",
    "    \n",
    "    accuracy = mean_squared_error(validAns.cpu(), valid_preds.cpu().detach().numpy() )\n",
    "    test_accuracy_history.append(accuracy)\n",
    "\n",
    "    \n",
    "    train_preds = chessNet2.forward(train)\n",
    "    accuracy_train = mean_squared_error(trainAns.cpu(), train_preds.cpu().detach().numpy() )\n",
    "    train_accuracy_history.append(accuracy_train)\n",
    "    \n",
    "    diff = accuracy - accuracy_train\n",
    "    diff_accuracy_history.append(diff)\n",
    "    \n",
    "    print(epoch)\n",
    "    print(accuracy)\n",
    "    print(accuracy_train)"
   ]
  },
  {
   "cell_type": "code",
   "execution_count": null,
   "metadata": {
    "colab": {
     "base_uri": "https://localhost:8080/",
     "height": 265
    },
    "id": "ApTY5U_gOImZ",
    "outputId": "36904f67-a8d2-47c3-cef3-597d0b8fd08a"
   },
   "outputs": [
    {
     "data": {
      "image/png": "[encoded data removed]",
      "text/plain": [
       "<Figure size 432x288 with 1 Axes>"
      ]
     },
     "metadata": {
      "needs_background": "light",
      "tags": []
     },
     "output_type": "display_data"
    }
   ],
   "source": [
    "# результаты обучения\n",
    "import matplotlib.pyplot as plt\n",
    "plt.plot(test_accuracy_history[1:]);\n",
    "plt.plot(train_accuracy_history, '-r');"
   ]
  },
  {
   "cell_type": "code",
   "execution_count": null,
   "metadata": {
    "colab": {
     "base_uri": "https://localhost:8080/",
     "height": 265
    },
    "id": "2qRVDATnOImc",
    "outputId": "44e8d69a-0014-44af-fed1-3e9bc1d8d319"
   },
   "outputs": [
    {
     "data": {
      "image/png": "[encoded data removed]",
      "text/plain": [
       "<Figure size 432x288 with 1 Axes>"
      ]
     },
     "metadata": {
      "needs_background": "light",
      "tags": []
     },
     "output_type": "display_data"
    }
   ],
   "source": [
    "plt.plot(diff_accuracy_history);"
   ]
  },
  {
   "cell_type": "code",
   "execution_count": null,
   "metadata": {
    "colab": {
     "base_uri": "https://localhost:8080/"
    },
    "id": "f6p8j4pbOVFJ",
    "outputId": "b54f9ce1-dced-484b-85e1-ca72f74469ba"
   },
   "outputs": [
    {
     "name": "stdout",
     "output_type": "stream",
     "text": [
      "tensor([[[ 0., -1.,  0., -1.,  0., -1.,  0.,  0.],\n",
      "         [-1.,  0., -1.,  0.,  0.,  0., -1.,  0.],\n",
      "         [ 0., -1.,  0.,  1.,  0.,  0.,  0., -1.],\n",
      "         [ 0.,  0.,  0.,  0.,  1.,  0.,  0.,  0.],\n",
      "         [ 0.,  0.,  0.,  0.,  0.,  0.,  0.,  0.],\n",
      "         [ 1.,  0.,  0.,  0.,  0.,  0.,  1.,  0.],\n",
      "         [ 0.,  1.,  0.,  0.,  0.,  0.,  0.,  1.],\n",
      "         [ 1.,  0.,  1.,  0.,  0.,  0.,  1.,  0.]]], device='cuda:0')\n",
      "tensor([[ 5., 11.]], device='cuda:0', grad_fn=<RoundBackward>)\n",
      "tensor([2., 7.], device='cuda:0')\n",
      "tensor([[[ 0., -1.,  0., -1.,  0., -1.,  0., -1.],\n",
      "         [-1.,  0., -1.,  0., -1.,  0., -1.,  0.],\n",
      "         [ 0., -1.,  0., -1.,  0., -1.,  0., -1.],\n",
      "         [ 0.,  0.,  0.,  0.,  0.,  0.,  0.,  0.],\n",
      "         [ 0.,  0.,  0.,  0.,  0.,  0.,  0.,  0.],\n",
      "         [ 1.,  0.,  1.,  0.,  1.,  0.,  1.,  0.],\n",
      "         [ 0.,  1.,  0.,  1.,  0.,  1.,  0.,  1.],\n",
      "         [ 1.,  0.,  1.,  0.,  1.,  0.,  1.,  0.]]], device='cuda:0')\n",
      "tensor([[10., 15.]], device='cuda:0', grad_fn=<RoundBackward>)\n",
      "tensor([ 9., 13.], device='cuda:0')\n",
      "tensor([[[ 0.,  0.,  0.,  0.,  0.,  1.,  0.,  0.],\n",
      "         [ 0.,  0.,  0.,  0.,  1.,  0.,  1.,  0.],\n",
      "         [ 0.,  1.,  0.,  1.,  0.,  0.,  0.,  0.],\n",
      "         [ 1.,  0.,  0.,  0.,  0.,  0.,  0.,  0.],\n",
      "         [ 0., -1.,  0., -1.,  0.,  0.,  0.,  0.],\n",
      "         [ 0.,  0.,  1.,  0.,  0.,  0.,  0.,  0.],\n",
      "         [ 0.,  0.,  0., -1.,  0.,  0.,  0., -1.],\n",
      "         [-1.,  0., -1.,  0., -1.,  0.,  0.,  0.]]], device='cuda:0')\n",
      "tensor([[27., 21.]], device='cuda:0', grad_fn=<RoundBackward>)\n",
      "tensor([28., 24.], device='cuda:0')\n",
      "tensor([[[ 0.,  1.,  0.,  1.,  0.,  1.,  0.,  1.],\n",
      "         [ 1.,  0.,  1.,  0.,  1.,  0.,  0.,  0.],\n",
      "         [ 0.,  0.,  0.,  0.,  0.,  1.,  0.,  1.],\n",
      "         [ 0.,  0.,  0.,  0.,  0.,  0.,  1.,  0.],\n",
      "         [ 0.,  0.,  0.,  1.,  0.,  0.,  0.,  0.],\n",
      "         [ 0.,  0.,  0.,  0., -1.,  0., -1.,  0.],\n",
      "         [ 0., -1.,  0., -1.,  0., -1.,  0., -1.],\n",
      "         [-1.,  0., -1.,  0., -1.,  0., -1.,  0.]]], device='cuda:0')\n",
      "tensor([[24., 15.]], device='cuda:0', grad_fn=<RoundBackward>)\n",
      "tensor([23., 14.], device='cuda:0')\n"
     ]
    }
   ],
   "source": [
    "for i in range(4): \n",
    "    print(train[i])\n",
    "    print((chessNet2.forward(train[i].unsqueeze(1).float())).round())\n",
    "    print(trainAns[i])"
   ]
  },
  {
   "cell_type": "code",
   "execution_count": null,
   "metadata": {
    "colab": {
     "base_uri": "https://localhost:8080/"
    },
    "id": "STchu_9sOVFJ",
    "outputId": "10cc67e6-293f-40ea-9680-87ee94ff68b0"
   },
   "outputs": [
    {
     "name": "stdout",
     "output_type": "stream",
     "text": [
      "tensor([[[ 0., -1.,  0.,  0.,  0.,  0.,  0., -1.],\n",
      "         [ 0.,  0., -1.,  0.,  0.,  0., -1.,  0.],\n",
      "         [ 0., -1.,  0., -1.,  0., -1.,  0.,  0.],\n",
      "         [ 1.,  0., -1.,  0.,  1.,  0.,  0.,  0.],\n",
      "         [ 0.,  0.,  0.,  0.,  0.,  0.,  0., -1.],\n",
      "         [ 1.,  0.,  0.,  0.,  1.,  0.,  1.,  0.],\n",
      "         [ 0.,  1.,  0.,  0.,  0.,  1.,  0.,  1.],\n",
      "         [ 0.,  0.,  1.,  0.,  0.,  0.,  1.,  0.]]], device='cuda:0')\n",
      "tensor([[ 9.3168, 25.8452]], device='cuda:0', grad_fn=<AddmmBackward>)\n",
      "tensor([10., 26.], device='cuda:0')\n",
      "tensor([[[ 0.,  0.,  0.,  0.,  0., -2.,  0.,  0.],\n",
      "         [ 1.,  0.,  0.,  0.,  0.,  0.,  0.,  0.],\n",
      "         [ 0.,  1.,  0.,  0.,  0.,  0.,  0.,  0.],\n",
      "         [ 1.,  0.,  0.,  0.,  0.,  0.,  0.,  0.],\n",
      "         [ 0.,  1.,  0.,  0.,  0.,  1.,  0.,  0.],\n",
      "         [ 0.,  0., -1.,  0.,  0.,  0.,  1.,  0.],\n",
      "         [ 0.,  0.,  0., -1.,  0.,  0.,  0., -1.],\n",
      "         [ 0.,  0., -1.,  0.,  0.,  0.,  0.,  0.]]], device='cuda:0')\n",
      "tensor([[8.5118, 7.6161]], device='cuda:0', grad_fn=<AddmmBackward>)\n",
      "tensor([3., 8.], device='cuda:0')\n",
      "tensor([[[ 0.,  0.,  0.,  0.,  0.,  0.,  0.,  0.],\n",
      "         [ 0.,  0.,  0.,  0.,  0.,  0.,  0.,  0.],\n",
      "         [ 0., -1.,  0.,  0.,  0.,  1.,  0.,  0.],\n",
      "         [ 0.,  0.,  0.,  0.,  0.,  0.,  0.,  0.],\n",
      "         [ 0.,  0.,  0.,  0.,  0., -1.,  0.,  0.],\n",
      "         [-1.,  0.,  0.,  0.,  0.,  0.,  0.,  0.],\n",
      "         [ 0.,  0.,  0.,  0.,  0.,  1.,  0.,  0.],\n",
      "         [ 1.,  0.,  0.,  0.,  0.,  0.,  0.,  0.]]], device='cuda:0')\n",
      "tensor([[ 8.3987, 12.5772]], device='cuda:0', grad_fn=<AddmmBackward>)\n",
      "tensor([ 9., 14.], device='cuda:0')\n",
      "tensor([[[ 0., -1.,  0., -1.,  0.,  0.,  0., -1.],\n",
      "         [-1.,  0., -1.,  0., -1.,  0.,  0.,  0.],\n",
      "         [ 0.,  1.,  0., -1.,  0.,  0.,  0., -1.],\n",
      "         [ 0.,  0.,  0.,  0.,  0.,  0.,  0.,  0.],\n",
      "         [ 0.,  1.,  0.,  0.,  0.,  0.,  0.,  1.],\n",
      "         [ 1.,  0.,  0.,  0.,  0.,  0.,  0.,  0.],\n",
      "         [ 0.,  0.,  0.,  0.,  0.,  0.,  0.,  1.],\n",
      "         [ 1.,  0.,  1.,  0.,  1.,  0.,  1.,  0.]]], device='cuda:0')\n",
      "tensor([[ 5.8284, 14.7397]], device='cuda:0', grad_fn=<AddmmBackward>)\n",
      "tensor([ 6., 22.], device='cuda:0')\n"
     ]
    }
   ],
   "source": [
    "for i in range(4): \n",
    "    print(valid[i])\n",
    "    print(chessNet2.forward(valid[i].unsqueeze(1).float()))\n",
    "    print(validAns[i])"
   ]
  },
  {
   "cell_type": "code",
   "execution_count": null,
   "metadata": {
    "id": "h-QmZU0VOVFK"
   },
   "outputs": [],
   "source": [
    "for i in range(10, 14): \n",
    "    print(test[i])\n",
    "    print(chessNet2.forward(test[i].unsqueeze(1).float()))\n",
    "    print(testAns[i])"
   ]
  }
 ],
 "metadata": {
  "accelerator": "GPU",
  "colab": {
   "collapsed_sections": [],
   "name": "checkersNet.ipynb",
   "provenance": []
  },
  "kernelspec": {
   "display_name": "Python 3",
   "language": "python",
   "name": "python3"
  },
  "language_info": {
   "codemirror_mode": {
    "name": "ipython",
    "version": 3
   },
   "file_extension": ".py",
   "mimetype": "text/x-python",
   "name": "python",
   "nbconvert_exporter": "python",
   "pygments_lexer": "ipython3",
   "version": "3.9.3"
  }
 },
 "nbformat": 4,
 "nbformat_minor": 1
}
