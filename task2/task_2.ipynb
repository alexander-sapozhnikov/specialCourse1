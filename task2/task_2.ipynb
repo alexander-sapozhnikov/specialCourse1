{
  "nbformat": 4,
  "nbformat_minor": 0,
  "metadata": {
    "accelerator": "GPU",
    "colab": {
      "name": "task#2.ipynb",
      "provenance": [],
      "collapsed_sections": []
    },
    "kernelspec": {
      "display_name": "Python 3",
      "name": "python3"
    },
    "language_info": {
      "name": "python"
    }
  },
  "cells": [
    {
      "cell_type": "code",
      "metadata": {
        "id": "IkAPTbRpdF5l"
      },
      "source": [
        "import pandas as pd\n",
        "from glob import glob\n",
        "import os\n",
        "from PIL import Image\n",
        "import numpy as np\n",
        "import random"
      ],
      "execution_count": 3,
      "outputs": []
    },
    {
      "cell_type": "code",
      "metadata": {
        "id": "YAXmR3roikAh"
      },
      "source": [
        "from keras.applications.resnet50 import ResNet50\n",
        "from keras.preprocessing import image\n",
        "from keras.applications.resnet50 import preprocess_input, decode_predictions\n",
        "from xgboost import XGBClassifier\n",
        "from sklearn.model_selection import train_test_split\n",
        "from sklearn.metrics import accuracy_score\n",
        "\n",
        "random.seed(34)"
      ],
      "execution_count": 4,
      "outputs": []
    },
    {
      "cell_type": "code",
      "metadata": {
        "colab": {
          "base_uri": "https://localhost:8080/"
        },
        "id": "I18ArypLXWwX",
        "outputId": "0fbcef4f-48b4-48f1-f64f-0b5a9615682b"
      },
      "source": [
        "from google.colab import drive\n",
        "drive.mount('/content/drive')"
      ],
      "execution_count": 5,
      "outputs": [
        {
          "output_type": "stream",
          "text": [
            "Drive already mounted at /content/drive; to attempt to forcibly remount, call drive.mount(\"/content/drive\", force_remount=True).\n"
          ],
          "name": "stdout"
        }
      ]
    },
    {
      "cell_type": "code",
      "metadata": {
        "id": "fVQaMOSZdXLy"
      },
      "source": [
        "def read_dataset(path):\n",
        "    X = []\n",
        "    y = []\n",
        "    \n",
        "    image_paths_list = glob(os.path.join(path, 'train', '*.jpg'))\n",
        "    image_paths_sample = random.sample(image_paths_list, 1000)\n",
        "\n",
        "    for image_path in image_paths_sample:\n",
        "        image_name = os.path.basename(image_path)\n",
        "        image_name_parts = image_name.split('.')\n",
        "        label = image_name_parts[0] if len(image_name_parts) == 3 else None\n",
        "\n",
        "        if label:\n",
        "            y.append(int(label == 'cat'))\n",
        "            \n",
        "        x = image.img_to_array(image.load_img(image_path, target_size=(224, 224)))\n",
        "        x = preprocess_input(x)\n",
        "            \n",
        "        X.append(x)\n",
        "            \n",
        "    return np.array(X), y"
      ],
      "execution_count": 6,
      "outputs": []
    },
    {
      "cell_type": "code",
      "metadata": {
        "colab": {
          "base_uri": "https://localhost:8080/"
        },
        "id": "9FZfTlZEXSqu",
        "outputId": "43fea4a7-4b6a-46f2-eb13-b7a46982066e"
      },
      "source": [
        "!unzip -q '/content/drive/MyDrive/Colab Notebooks/train.zip' -d /content"
      ],
      "execution_count": 7,
      "outputs": [
        {
          "output_type": "stream",
          "text": [
            "replace /content/train/cat.0.jpg? [y]es, [n]o, [A]ll, [N]one, [r]ename: "
          ],
          "name": "stdout"
        }
      ]
    },
    {
      "cell_type": "code",
      "metadata": {
        "id": "v-2023Nn7V58"
      },
      "source": [
        "url = \"/content\""
      ],
      "execution_count": 8,
      "outputs": []
    },
    {
      "cell_type": "code",
      "metadata": {
        "id": "rQsc569cR1Ry"
      },
      "source": [
        "model = ResNet50(weights='imagenet')"
      ],
      "execution_count": 9,
      "outputs": []
    },
    {
      "cell_type": "code",
      "metadata": {
        "colab": {
          "base_uri": "https://localhost:8080/"
        },
        "id": "hI-n6xkPR5ER",
        "outputId": "eb02552f-1608-49eb-bf61-c05f2ed63f93"
      },
      "source": [
        "train =[]\n",
        "test = []\n",
        "trainAns =[]\n",
        "testAns = []\n",
        "for i in range(25):\n",
        "    print(i)\n",
        "    data = read_dataset(url)\n",
        "    X_train, X_test, y_train, y_test = train_test_split(data[0], data[1], test_size=0.30)\n",
        "    \n",
        "    preds = model.predict(X_train)\n",
        "    train.extend(preds)\n",
        "    \n",
        "    preds = model.predict(X_test)\n",
        "    test.extend(preds)\n",
        "    \n",
        "    trainAns.extend(y_train)\n",
        "    testAns.extend(y_test)"
      ],
      "execution_count": 10,
      "outputs": [
        {
          "output_type": "stream",
          "text": [
            "0\n",
            "1\n",
            "2\n",
            "3\n",
            "4\n",
            "5\n",
            "6\n",
            "7\n",
            "8\n",
            "9\n",
            "10\n",
            "11\n",
            "12\n",
            "13\n",
            "14\n",
            "15\n",
            "16\n",
            "17\n",
            "18\n",
            "19\n",
            "20\n",
            "21\n",
            "22\n",
            "23\n",
            "24\n"
          ],
          "name": "stdout"
        }
      ]
    },
    {
      "cell_type": "code",
      "metadata": {
        "id": "BV2ja8uNj6mb"
      },
      "source": [
        "clf = XGBClassifier()"
      ],
      "execution_count": 11,
      "outputs": []
    },
    {
      "cell_type": "code",
      "metadata": {
        "colab": {
          "base_uri": "https://localhost:8080/"
        },
        "id": "coeSqfRkoOeD",
        "outputId": "306e5790-9b2e-460e-f4ea-041de17b03ae"
      },
      "source": [
        "clf.fit(np.array(train),trainAns)"
      ],
      "execution_count": 12,
      "outputs": [
        {
          "output_type": "execute_result",
          "data": {
            "text/plain": [
              "XGBClassifier(base_score=0.5, booster='gbtree', colsample_bylevel=1,\n",
              "              colsample_bynode=1, colsample_bytree=1, gamma=0,\n",
              "              learning_rate=0.1, max_delta_step=0, max_depth=3,\n",
              "              min_child_weight=1, missing=None, n_estimators=100, n_jobs=1,\n",
              "              nthread=None, objective='binary:logistic', random_state=0,\n",
              "              reg_alpha=0, reg_lambda=1, scale_pos_weight=1, seed=None,\n",
              "              silent=None, subsample=1, verbosity=1)"
            ]
          },
          "metadata": {
            "tags": []
          },
          "execution_count": 12
        }
      ]
    },
    {
      "cell_type": "code",
      "metadata": {
        "colab": {
          "base_uri": "https://localhost:8080/"
        },
        "id": "Fdkqs59loY_t",
        "outputId": "df0427ed-2b23-4d69-b789-1dc1f2fcafe5"
      },
      "source": [
        "clf.evals_result"
      ],
      "execution_count": 13,
      "outputs": [
        {
          "output_type": "execute_result",
          "data": {
            "text/plain": [
              "<bound method XGBClassifier.evals_result of XGBClassifier(base_score=0.5, booster='gbtree', colsample_bylevel=1,\n",
              "              colsample_bynode=1, colsample_bytree=1, gamma=0,\n",
              "              learning_rate=0.1, max_delta_step=0, max_depth=3,\n",
              "              min_child_weight=1, missing=None, n_estimators=100, n_jobs=1,\n",
              "              nthread=None, objective='binary:logistic', random_state=0,\n",
              "              reg_alpha=0, reg_lambda=1, scale_pos_weight=1, seed=None,\n",
              "              silent=None, subsample=1, verbosity=1)>"
            ]
          },
          "metadata": {
            "tags": []
          },
          "execution_count": 13
        }
      ]
    },
    {
      "cell_type": "code",
      "metadata": {
        "colab": {
          "base_uri": "https://localhost:8080/"
        },
        "id": "B8l0TC9ms0es",
        "outputId": "c2b036ee-61aa-48b4-d241-f1bc7d2aaf5a"
      },
      "source": [
        "pred = clf.predict(test)\n",
        "accuracy_score(testAns, pred)"
      ],
      "execution_count": 14,
      "outputs": [
        {
          "output_type": "execute_result",
          "data": {
            "text/plain": [
              "0.9905333333333334"
            ]
          },
          "metadata": {
            "tags": []
          },
          "execution_count": 14
        }
      ]
    },
    {
      "cell_type": "code",
      "metadata": {
        "id": "aGpcYe5PwEPd"
      },
      "source": [
        "# эксперементальным путем получили такие параметры, другие давали хуже результаты\n",
        "param_dist = { 'num_iterations':1000, 'learning_rate': 0.1}\n",
        "\n",
        "clf2 = XGBClassifier(**param_dist)"
      ],
      "execution_count": 15,
      "outputs": []
    },
    {
      "cell_type": "code",
      "metadata": {
        "colab": {
          "base_uri": "https://localhost:8080/"
        },
        "id": "AHLnzKgswLzS",
        "outputId": "7e8e7bd6-7331-4a57-b764-feb6bd10b9e7"
      },
      "source": [
        "clf2.fit(np.array(train),trainAns)"
      ],
      "execution_count": 16,
      "outputs": [
        {
          "output_type": "execute_result",
          "data": {
            "text/plain": [
              "XGBClassifier(base_score=0.5, booster='gbtree', colsample_bylevel=1,\n",
              "              colsample_bynode=1, colsample_bytree=1, gamma=0,\n",
              "              learning_rate=0.1, max_delta_step=0, max_depth=3,\n",
              "              min_child_weight=1, missing=None, n_estimators=100, n_jobs=1,\n",
              "              nthread=None, num_iterations=1000, objective='binary:logistic',\n",
              "              random_state=0, reg_alpha=0, reg_lambda=1, scale_pos_weight=1,\n",
              "              seed=None, silent=None, subsample=1, verbosity=1)"
            ]
          },
          "metadata": {
            "tags": []
          },
          "execution_count": 16
        }
      ]
    },
    {
      "cell_type": "code",
      "metadata": {
        "colab": {
          "base_uri": "https://localhost:8080/"
        },
        "id": "a3i7aLBv31uP",
        "outputId": "6b3a9751-d9c9-4bca-8c4d-32d2b9e79392"
      },
      "source": [
        "pred2 = clf2.predict(test)\n",
        "accuracy_score(testAns, pred2)"
      ],
      "execution_count": 17,
      "outputs": [
        {
          "output_type": "execute_result",
          "data": {
            "text/plain": [
              "0.9905333333333334"
            ]
          },
          "metadata": {
            "tags": []
          },
          "execution_count": 17
        }
      ]
    },
    {
      "cell_type": "code",
      "metadata": {
        "id": "mG64EHsFF3Nu"
      },
      "source": [
        "import hyperopt\n",
        "from hyperopt import fmin, tpe, hp, STATUS_OK, Trials"
      ],
      "execution_count": 18,
      "outputs": []
    },
    {
      "cell_type": "code",
      "metadata": {
        "id": "-tqVW35iGtwV"
      },
      "source": [
        "# здесь задаются параметры, которые мы изменяем\n",
        "# параметры не все так как итерация по всем знаимает больше 5 часов\n",
        "space={'max_depth': hp.quniform(\"max_depth\", 3, 18, 1),\n",
        "        'gamma': hp.uniform ('gamma', 1,9),\n",
        "        'colsample_bytree' : hp.uniform('colsample_bytree', 0.5,1),\n",
        "        'min_child_weight' : hp.quniform('min_child_weight', 0, 10, 1),\n",
        "        'n_estimators': 180\n",
        "    }"
      ],
      "execution_count": 19,
      "outputs": []
    },
    {
      "cell_type": "code",
      "metadata": {
        "id": "W4jvWszUGtE_"
      },
      "source": [
        "def hyperparameter_tuning(space):\n",
        "    print(space['max_depth'])\n",
        "    model = XGBClassifier(n_estimators =space['n_estimators'], \n",
        "                          max_depth = int(space['max_depth']), \n",
        "                          gamma = space['gamma'],\n",
        "                          **param_dist)\n",
        "    evaluation = [( train, trainAns), ( test, testAns)]\n",
        "    \n",
        "    model.fit(np.array(train), trainAns,\n",
        "            eval_set=evaluation, eval_metric=\"rmse\",\n",
        "            early_stopping_rounds=10,verbose=False)\n",
        "\n",
        "    pred = model.predict(test)\n",
        "    accuracy = accuracy_score(testAns, pred>0.5)\n",
        "    print (\"SCORE:\", accuracy)\n",
        "    return {'loss': -accuracy, 'status': STATUS_OK, 'model': model}"
      ],
      "execution_count": 20,
      "outputs": []
    },
    {
      "cell_type": "code",
      "metadata": {
        "colab": {
          "base_uri": "https://localhost:8080/"
        },
        "id": "m-QUMhnyG_Hp",
        "outputId": "23452ab4-5203-444b-8433-fc7db0fb21c6"
      },
      "source": [
        "trials = Trials()\n",
        "best = fmin(fn=hyperparameter_tuning,\n",
        "            space=space,\n",
        "            algo=tpe.suggest,\n",
        "            max_evals=5,\n",
        "            trials=trials)\n",
        "\n",
        "print (best)"
      ],
      "execution_count": 21,
      "outputs": [
        {
          "output_type": "stream",
          "text": [
            "9.0\n",
            "SCORE:\n",
            "0.9926666666666667\n",
            "3.0\n",
            "SCORE:\n",
            "0.9896\n",
            "15.0\n",
            "SCORE:\n",
            "0.9913333333333333\n",
            "16.0\n",
            "SCORE:\n",
            "0.9918666666666667\n",
            "11.0\n",
            "SCORE:\n",
            "0.9913333333333333\n",
            "100%|██████████| 5/5 [26:19<00:00, 315.99s/it, best loss: -0.9926666666666667]\n",
            "{'colsample_bytree': 0.6134924489813431, 'gamma': 3.1020056915276673, 'max_depth': 9.0, 'min_child_weight': 9.0}\n"
          ],
          "name": "stdout"
        }
      ]
    },
    {
      "cell_type": "code",
      "metadata": {
        "colab": {
          "base_uri": "https://localhost:8080/"
        },
        "id": "HbO1jCf9SYXg",
        "outputId": "7d4c9230-918f-45be-fd80-0ba3f43ee330"
      },
      "source": [
        "print(best)"
      ],
      "execution_count": 22,
      "outputs": [
        {
          "output_type": "stream",
          "text": [
            "{'colsample_bytree': 0.6134924489813431, 'gamma': 3.1020056915276673, 'max_depth': 9.0, 'min_child_weight': 9.0}\n"
          ],
          "name": "stdout"
        }
      ]
    },
    {
      "cell_type": "code",
      "metadata": {
        "colab": {
          "base_uri": "https://localhost:8080/"
        },
        "id": "HWep_6U7uCu9",
        "outputId": "ad901ac7-04d5-4402-9489-bbe41ee80264"
      },
      "source": [
        "# выжные параметры\n",
        "i = 0\n",
        "import_param = []\n",
        "for el in clf.feature_importances_:\n",
        "  i += 1\n",
        "  if(el > 0.01):\n",
        "    print(el, i)\n",
        "    import_param.append(i)"
      ],
      "execution_count": 23,
      "outputs": [
        {
          "output_type": "stream",
          "text": [
            "0.013307261 160\n",
            "0.011589089 176\n",
            "0.012168011 183\n",
            "0.011672517 195\n",
            "0.01808207 201\n",
            "0.0130567355 228\n",
            "0.020534467 235\n",
            "0.27448246 282\n",
            "0.021842286 284\n",
            "0.014873535 285\n",
            "0.11640169 286\n",
            "0.055002734 288\n",
            "0.01652918 589\n",
            "0.018145414 897\n"
          ],
          "name": "stdout"
        }
      ]
    }
  ]
}